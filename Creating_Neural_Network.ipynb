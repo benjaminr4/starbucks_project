{
 "cells": [
  {
   "cell_type": "code",
   "execution_count": 1,
   "metadata": {},
   "outputs": [],
   "source": [
    "import pandas as pd\n",
    "import numpy as np\n",
    "import seaborn as sn\n",
    "import matplotlib.pyplot as plt\n",
    "import torch\n",
    "import torch.nn as nn\n",
    "from torch.utils.data import DataLoader, TensorDataset\n",
    "from sklearn.preprocessing import quantile_transform\n",
    "from sklearn.metrics import accuracy_score, precision_score, recall_score, f1_score, classification_report, confusion_matrix\n"
   ]
  },
  {
   "cell_type": "markdown",
   "metadata": {},
   "source": [
    "Want to compare my best ML algorithm results to a Neural Network"
   ]
  },
  {
   "cell_type": "code",
   "execution_count": 2,
   "metadata": {},
   "outputs": [],
   "source": [
    "offers_classed=pd.read_pickle(\"final_table_nf.pkl\")"
   ]
  },
  {
   "cell_type": "code",
   "execution_count": 3,
   "metadata": {},
   "outputs": [
    {
     "name": "stdout",
     "output_type": "stream",
     "text": [
      "66501\n"
     ]
    }
   ],
   "source": [
    "labels=offers_classed['successful_offer'].values\n",
    "print(len(labels))"
   ]
  },
  {
   "cell_type": "code",
   "execution_count": 4,
   "metadata": {},
   "outputs": [
    {
     "name": "stdout",
     "output_type": "stream",
     "text": [
      "66501\n"
     ]
    }
   ],
   "source": [
    "features = offers_classed.filter(['reward', 'difficulty', 'duration','mobile', 'social', 'web', 'bogo', 'discount',\n",
    "                 'informational', 'age', 'became_member_on', 'income', 'female', 'male', 'other','total_spend','transaction','viewed'])\n",
    "print(len(features))"
   ]
  },
  {
   "cell_type": "code",
   "execution_count": 5,
   "metadata": {},
   "outputs": [],
   "source": [
    "def quantileScale (df,col):\n",
    "    col=df.filter(col)\n",
    "    col_scaled=quantile_transform(col, copy=False)\n",
    "    col=pd.DataFrame(col_scaled, columns=col.columns, index=col.index)\n",
    "    df.update(col)\n",
    "    return (df)"
   ]
  },
  {
   "cell_type": "code",
   "execution_count": 6,
   "metadata": {},
   "outputs": [
    {
     "data": {
      "text/plain": [
       "Index(['reward', 'difficulty', 'duration', 'mobile', 'social', 'web', 'bogo',\n",
       "       'discount', 'informational', 'age', 'became_member_on', 'income',\n",
       "       'female', 'male', 'other', 'total_spend', 'transaction', 'viewed'],\n",
       "      dtype='object')"
      ]
     },
     "execution_count": 6,
     "metadata": {},
     "output_type": "execute_result"
    }
   ],
   "source": [
    "features.columns"
   ]
  },
  {
   "cell_type": "markdown",
   "metadata": {},
   "source": [
    "Scale all features using the quantile transformation (including the new features added during the benchmark refinement phase)"
   ]
  },
  {
   "cell_type": "code",
   "execution_count": 7,
   "metadata": {
    "scrolled": true
   },
   "outputs": [
    {
     "data": {
      "text/plain": [
       "reward              float64\n",
       "difficulty          float64\n",
       "duration            float64\n",
       "mobile              float64\n",
       "social              float64\n",
       "web                 float64\n",
       "bogo                  uint8\n",
       "discount              uint8\n",
       "informational         uint8\n",
       "age                   int64\n",
       "became_member_on      int64\n",
       "income              float64\n",
       "female                uint8\n",
       "male                  uint8\n",
       "other                 uint8\n",
       "total_spend         float64\n",
       "transaction           uint8\n",
       "viewed                uint8\n",
       "dtype: object"
      ]
     },
     "execution_count": 7,
     "metadata": {},
     "output_type": "execute_result"
    }
   ],
   "source": [
    "features.dtypes"
   ]
  },
  {
   "cell_type": "code",
   "execution_count": 8,
   "metadata": {},
   "outputs": [],
   "source": [
    "features=features.astype(float)\n",
    "\n",
    "features=quantileScale(features, ['reward', 'difficulty', 'duration', 'mobile', 'social', 'web', 'bogo',\n",
    "       'discount', 'informational', 'age', 'became_member_on', 'income',\n",
    "       'female', 'male', 'other', 'total_spend', 'transaction', 'viewed'])\n",
    "\n",
    "features=features.values\n"
   ]
  },
  {
   "cell_type": "code",
   "execution_count": 9,
   "metadata": {},
   "outputs": [],
   "source": [
    "#Convert features and labels to tensors\n",
    "features = torch.as_tensor(features, dtype=torch.float)\n",
    "labels = torch.as_tensor(labels, dtype=torch.long)"
   ]
  },
  {
   "cell_type": "code",
   "execution_count": 10,
   "metadata": {},
   "outputs": [],
   "source": [
    "## Split data into three random datasets \n",
    "\n",
    "# Generate randomic indices\n",
    "len_dataset = len(features)\n",
    "random_idx = np.random.choice(len_dataset, len_dataset, replace=False)\n",
    "\n",
    "# Use the proportions: train: 70%, valid: 15%, test: 15%\n",
    "train_idx = random_idx[:int(len_dataset*0.70)]\n",
    "valid_idx = random_idx[-int(len_dataset*0.15):]\n",
    "test_idx = random_idx[int(len_dataset*0.70):-int(len_dataset*0.15)]\n",
    "\n",
    "# Create datasets\n",
    "train_dataset = TensorDataset(features[train_idx], labels[train_idx])\n",
    "valid_dataset = TensorDataset(features[valid_idx], labels[valid_idx])\n",
    "test_dataset = TensorDataset(features[test_idx], labels[test_idx])\n",
    "\n",
    "# Create dataloaders\n",
    "train_dataloader = DataLoader(train_dataset, batch_size=32, shuffle=True)\n",
    "valid_dataloader = DataLoader(valid_dataset, batch_size=32, shuffle=True)\n",
    "test_dataloader = DataLoader(test_dataset, batch_size=32, shuffle=False)"
   ]
  },
  {
   "cell_type": "markdown",
   "metadata": {},
   "source": [
    "Making sure the split has maintained balanced classes"
   ]
  },
  {
   "cell_type": "code",
   "execution_count": 11,
   "metadata": {},
   "outputs": [
    {
     "name": "stdout",
     "output_type": "stream",
     "text": [
      "Training data has 26729 unsuccessful events and 19821 successful events \n",
      "The ratio between classes is:\t 0.57 : 0.43\n",
      "\n",
      "Validation data has 5678 unsuccessful events and 4297 successful events \n",
      "The ratio between classes is:\t 0.57 : 0.43\n",
      "\n",
      "Testing data has 5656 unsuccessful events and 4320 successful events \n",
      "The ratio between classes is:\t 0.57 : 0.43\n",
      "\n"
     ]
    }
   ],
   "source": [
    "#Counting the training labels\n",
    "train_neg = (labels[train_idx] == 0).sum()\n",
    "train_pos = (labels[train_idx] == 1).sum()\n",
    "train_total=len(train_idx)\n",
    "print('Training data has {} unsuccessful events and {} successful events \\nThe ratio between classes is:\\t {:0.2f} : {:0.2f}\\n'.format(train_neg, train_pos, train_neg/train_total, train_pos/train_total))\n",
    "\n",
    "#Counting the validating labels\n",
    "valid_neg = (labels[valid_idx] == 0).sum()\n",
    "valid_pos = (labels[valid_idx] == 1).sum()\n",
    "valid_total =len(valid_idx)\n",
    "print('Validation data has {} unsuccessful events and {} successful events \\nThe ratio between classes is:\\t {:0.2f} : {:0.2f}\\n'.format(valid_neg, valid_pos, valid_neg/valid_total, valid_pos/valid_total))\n",
    "\n",
    "#Counting the testing labels\n",
    "test_neg = (labels[test_idx] == 0).sum()\n",
    "test_pos = (labels[test_idx] == 1).sum()\n",
    "test_total =len(test_idx)\n",
    "print('Testing data has {} unsuccessful events and {} successful events \\nThe ratio between classes is:\\t {:0.2f} : {:0.2f}\\n'.format(test_neg, test_pos, test_neg/test_total, test_pos/test_total))\n"
   ]
  },
  {
   "cell_type": "code",
   "execution_count": 12,
   "metadata": {},
   "outputs": [],
   "source": [
    "class LinearNN(nn.Module):\n",
    "    def __init__(self, input_size, hidden_layers=[128,128],\n",
    "                 output_size=2, dropout=0.2):\n",
    "        super(LinearNN, self).__init__()\n",
    "        self.input_size = input_size\n",
    "\n",
    "        nodes = []\n",
    "        nodes.append(input_size)\n",
    "        nodes.extend(hidden_layers)\n",
    "        nodes.append(output_size)\n",
    "\n",
    "        self.module_list = nn.ModuleList()\n",
    "        for nodes_in, nodes_out in zip(nodes[:-1], nodes[1:]):\n",
    "            layer = nn.Linear(nodes_in, nodes_out)\n",
    "            self.module_list.append(layer)\n",
    "\n",
    "        self.activation = nn.ReLU()\n",
    "        self.dropout = nn.Dropout(dropout)\n",
    "\n",
    "    def forward(self, x):\n",
    "        x = x.view(-1, self.input_size)\n",
    "        for layer in self.module_list[:-1]:\n",
    "            x = layer(x)\n",
    "            x = self.activation(x)\n",
    "            x = self.dropout(x)\n",
    "        x = self.module_list[-1](x)\n",
    "\n",
    "        return x"
   ]
  },
  {
   "cell_type": "code",
   "execution_count": 13,
   "metadata": {},
   "outputs": [],
   "source": [
    "def validate(model, dataloader=valid_dataloader):\n",
    "    with torch.no_grad():\n",
    "        model.eval()\n",
    "        valid_loss = 0\n",
    "        y_true = []\n",
    "        y_pred = []\n",
    "        for features, labels in dataloader:\n",
    "            prediction = model(features)\n",
    "            \n",
    "            prediction = prediction.view(-1,2)\n",
    "            labels = labels.view(-1)\n",
    "            valid_loss += criterion(prediction, labels)\n",
    "\n",
    "            prediction = torch.softmax(prediction, dim=1)\n",
    "            _, prediction = prediction.topk(1, dim=1)\n",
    "            prediction = prediction.squeeze()\n",
    "\n",
    "            y_pred.extend(prediction.view(-1))\n",
    "            y_true.extend(labels.view(-1))\n",
    "\n",
    "        # normalize the loss\n",
    "        valid_loss /= len(dataloader)\n",
    "        valid_loss = valid_loss.item()\n",
    "\n",
    "        con_mat = confusion_matrix(y_true, y_pred)\n",
    "        class_report=classification_report(y_true, y_pred, digits=4, target_names=['unsuccessful','successful'],output_dict=False)\n",
    "        \n",
    "        model.train()\n",
    "\n",
    "        return valid_loss, con_mat, class_report\n",
    "    \n"
   ]
  },
  {
   "cell_type": "code",
   "execution_count": 14,
   "metadata": {},
   "outputs": [],
   "source": [
    "def train(model, model_name='classifier',\n",
    "          dataloader=train_dataloader, epochs=200):\n",
    "    train_loss = []\n",
    "    valid_loss = []\n",
    "    min_valid_loss = np.inf\n",
    "    \n",
    "    for epoch in range(1, epochs+1):\n",
    "        epoch_loss = 0\n",
    "        for batch, (features, labels) in enumerate(dataloader):\n",
    "            ## Train the network\n",
    "            optimizer.zero_grad()\n",
    "            prediction = model(features)\n",
    "            prediction = prediction.view(-1,2)\n",
    "            labels = labels.view(-1)\n",
    "            loss = criterion(prediction, labels)\n",
    "            loss.backward()\n",
    "            optimizer.step()\n",
    "            epoch_loss += loss.item()\n",
    "\n",
    "        # Normalize the training loss\n",
    "        epoch_loss /= len(dataloader)\n",
    "        train_loss.append(epoch_loss)\n",
    "        \n",
    "        # LR scheduler step\n",
    "        lr_scheduler.step(train_loss[-1])\n",
    "\n",
    "        # Validate\n",
    "        metrics = validate(model)\n",
    "        valid_loss.append(metrics[0])\n",
    "        print('Epoch {:4d}\\ttrain loss: {:7.4f}\\tvalidation loss: {:7.4f}' \\\n",
    "              .format(epoch, train_loss[-1], valid_loss[-1]))\n",
    "\n",
    "        # Only save the model if valid_loss has decreased\n",
    "        if valid_loss[-1] < min_valid_loss:\n",
    "            min_valid_loss = valid_loss[-1]\n",
    "            torch.save(model.state_dict(), model_name+'.pt')\n",
    "\n",
    "    return train_loss, valid_loss"
   ]
  },
  {
   "cell_type": "code",
   "execution_count": 15,
   "metadata": {},
   "outputs": [],
   "source": [
    "NNclassifier = LinearNN(input_size=18, output_size=2, hidden_layers=[256,256,256])\n",
    "\n",
    "criterion = nn.CrossEntropyLoss(torch.tensor([(float(train_neg) / float(train_pos)), 1])) \n",
    "\n",
    "optimizer = torch.optim.Adam(NNclassifier.parameters(), lr=0.0001, weight_decay=0.0001)\n",
    "\n",
    "lr_scheduler = torch.optim.lr_scheduler.ReduceLROnPlateau(optimizer, factor=.1, patience=15)"
   ]
  },
  {
   "cell_type": "code",
   "execution_count": 16,
   "metadata": {},
   "outputs": [
    {
     "name": "stdout",
     "output_type": "stream",
     "text": [
      "Epoch    1\ttrain loss:  0.5880\tvalidation loss:  0.5675\n",
      "Epoch    2\ttrain loss:  0.5673\tvalidation loss:  0.5602\n",
      "Epoch    3\ttrain loss:  0.5614\tvalidation loss:  0.5557\n",
      "Epoch    4\ttrain loss:  0.5577\tvalidation loss:  0.5509\n",
      "Epoch    5\ttrain loss:  0.5538\tvalidation loss:  0.5482\n",
      "Epoch    6\ttrain loss:  0.5509\tvalidation loss:  0.5462\n",
      "Epoch    7\ttrain loss:  0.5493\tvalidation loss:  0.5457\n",
      "Epoch    8\ttrain loss:  0.5464\tvalidation loss:  0.5427\n",
      "Epoch    9\ttrain loss:  0.5453\tvalidation loss:  0.5425\n",
      "Epoch   10\ttrain loss:  0.5446\tvalidation loss:  0.5415\n",
      "Epoch   11\ttrain loss:  0.5431\tvalidation loss:  0.5402\n",
      "Epoch   12\ttrain loss:  0.5424\tvalidation loss:  0.5401\n",
      "Epoch   13\ttrain loss:  0.5405\tvalidation loss:  0.5386\n",
      "Epoch   14\ttrain loss:  0.5399\tvalidation loss:  0.5384\n",
      "Epoch   15\ttrain loss:  0.5399\tvalidation loss:  0.5398\n",
      "Epoch   16\ttrain loss:  0.5387\tvalidation loss:  0.5383\n",
      "Epoch   17\ttrain loss:  0.5377\tvalidation loss:  0.5373\n",
      "Epoch   18\ttrain loss:  0.5374\tvalidation loss:  0.5379\n",
      "Epoch   19\ttrain loss:  0.5371\tvalidation loss:  0.5364\n",
      "Epoch   20\ttrain loss:  0.5354\tvalidation loss:  0.5379\n",
      "Epoch   21\ttrain loss:  0.5359\tvalidation loss:  0.5370\n",
      "Epoch   22\ttrain loss:  0.5341\tvalidation loss:  0.5358\n",
      "Epoch   23\ttrain loss:  0.5342\tvalidation loss:  0.5351\n",
      "Epoch   24\ttrain loss:  0.5338\tvalidation loss:  0.5358\n",
      "Epoch   25\ttrain loss:  0.5328\tvalidation loss:  0.5363\n",
      "Epoch   26\ttrain loss:  0.5326\tvalidation loss:  0.5349\n",
      "Epoch   27\ttrain loss:  0.5329\tvalidation loss:  0.5351\n",
      "Epoch   28\ttrain loss:  0.5316\tvalidation loss:  0.5347\n",
      "Epoch   29\ttrain loss:  0.5317\tvalidation loss:  0.5339\n",
      "Epoch   30\ttrain loss:  0.5320\tvalidation loss:  0.5351\n",
      "Epoch   31\ttrain loss:  0.5308\tvalidation loss:  0.5342\n",
      "Epoch   32\ttrain loss:  0.5311\tvalidation loss:  0.5353\n",
      "Epoch   33\ttrain loss:  0.5310\tvalidation loss:  0.5384\n",
      "Epoch   34\ttrain loss:  0.5300\tvalidation loss:  0.5331\n",
      "Epoch   35\ttrain loss:  0.5295\tvalidation loss:  0.5337\n",
      "Epoch   36\ttrain loss:  0.5294\tvalidation loss:  0.5333\n",
      "Epoch   37\ttrain loss:  0.5280\tvalidation loss:  0.5332\n",
      "Epoch   38\ttrain loss:  0.5284\tvalidation loss:  0.5332\n",
      "Epoch   39\ttrain loss:  0.5277\tvalidation loss:  0.5324\n",
      "Epoch   40\ttrain loss:  0.5280\tvalidation loss:  0.5331\n",
      "Epoch   41\ttrain loss:  0.5277\tvalidation loss:  0.5336\n",
      "Epoch   42\ttrain loss:  0.5274\tvalidation loss:  0.5334\n",
      "Epoch   43\ttrain loss:  0.5272\tvalidation loss:  0.5329\n",
      "Epoch   44\ttrain loss:  0.5263\tvalidation loss:  0.5328\n",
      "Epoch   45\ttrain loss:  0.5268\tvalidation loss:  0.5327\n",
      "Epoch   46\ttrain loss:  0.5258\tvalidation loss:  0.5335\n",
      "Epoch   47\ttrain loss:  0.5265\tvalidation loss:  0.5323\n",
      "Epoch   48\ttrain loss:  0.5259\tvalidation loss:  0.5319\n",
      "Epoch   49\ttrain loss:  0.5251\tvalidation loss:  0.5321\n",
      "Epoch   50\ttrain loss:  0.5246\tvalidation loss:  0.5321\n",
      "Epoch   51\ttrain loss:  0.5244\tvalidation loss:  0.5321\n",
      "Epoch   52\ttrain loss:  0.5245\tvalidation loss:  0.5326\n",
      "Epoch   53\ttrain loss:  0.5244\tvalidation loss:  0.5332\n",
      "Epoch   54\ttrain loss:  0.5236\tvalidation loss:  0.5321\n",
      "Epoch   55\ttrain loss:  0.5244\tvalidation loss:  0.5315\n",
      "Epoch   56\ttrain loss:  0.5228\tvalidation loss:  0.5333\n",
      "Epoch   57\ttrain loss:  0.5234\tvalidation loss:  0.5315\n",
      "Epoch   58\ttrain loss:  0.5233\tvalidation loss:  0.5312\n",
      "Epoch   59\ttrain loss:  0.5229\tvalidation loss:  0.5318\n",
      "Epoch   60\ttrain loss:  0.5219\tvalidation loss:  0.5317\n",
      "CPU times: user 25min 57s, sys: 3.12 s, total: 26min\n",
      "Wall time: 6min 52s\n"
     ]
    }
   ],
   "source": [
    "%%time \n",
    "#100 takes 12min 8s\n",
    "#200 takes 27min 9s\n",
    "\n",
    "linear_loss = train(NNclassifier, model_name='NN_classifier', epochs=60)"
   ]
  },
  {
   "cell_type": "code",
   "execution_count": 17,
   "metadata": {},
   "outputs": [],
   "source": [
    "#evaluation metrics\n",
    "loss, con_mat, class_report=  validate(NNclassifier, test_dataloader)"
   ]
  },
  {
   "cell_type": "code",
   "execution_count": 18,
   "metadata": {
    "scrolled": true
   },
   "outputs": [
    {
     "name": "stdout",
     "output_type": "stream",
     "text": [
      "              precision    recall  f1-score   support\n",
      "\n",
      "unsuccessful     0.6998    0.8502    0.7677      5656\n",
      "  successful     0.7271    0.5225    0.6080      4320\n",
      "\n",
      "    accuracy                         0.7083      9976\n",
      "   macro avg     0.7135    0.6864    0.6879      9976\n",
      "weighted avg     0.7116    0.7083    0.6986      9976\n",
      "\n"
     ]
    }
   ],
   "source": [
    "print(class_report)"
   ]
  },
  {
   "cell_type": "code",
   "execution_count": 19,
   "metadata": {},
   "outputs": [
    {
     "data": {
      "text/plain": [
       "<Axes: >"
      ]
     },
     "execution_count": 19,
     "metadata": {},
     "output_type": "execute_result"
    },
    {
     "data": {
      "image/png": "[encoded data removed]",
      "text/plain": [
       "<Figure size 500x400 with 2 Axes>"
      ]
     },
     "metadata": {},
     "output_type": "display_data"
    }
   ],
   "source": [
    "plt.figure(figsize = (5,4))\n",
    "sn.heatmap(con_mat, annot=True,cmap='YlOrBr',fmt='g')"
   ]
  },
  {
   "cell_type": "markdown",
   "metadata": {},
   "source": [
    "<font size=4>Refinement and Optimising for Recall<font/>"
   ]
  },
  {
   "cell_type": "markdown",
   "metadata": {},
   "source": [
    "weighting train_pos by 1.35"
   ]
  },
  {
   "cell_type": "code",
   "execution_count": 20,
   "metadata": {},
   "outputs": [],
   "source": [
    "NNclassifier = LinearNN(input_size=18, output_size=2, hidden_layers=[256,256,256])\n",
    "\n",
    "criterion = nn.CrossEntropyLoss(torch.tensor([(float(train_neg) / float(1.35*train_pos)), 1])) \n",
    "\n",
    "optimizer = torch.optim.Adam(NNclassifier.parameters(), lr=0.0001, weight_decay=0.0001)\n",
    "\n",
    "lr_scheduler = torch.optim.lr_scheduler.ReduceLROnPlateau(optimizer, factor=.1, patience=15)"
   ]
  },
  {
   "cell_type": "code",
   "execution_count": 21,
   "metadata": {},
   "outputs": [
    {
     "name": "stdout",
     "output_type": "stream",
     "text": [
      "Epoch    1\ttrain loss:  0.6120\tvalidation loss:  0.5959\n",
      "Epoch    2\ttrain loss:  0.5919\tvalidation loss:  0.5817\n",
      "Epoch    3\ttrain loss:  0.5854\tvalidation loss:  0.5754\n",
      "Epoch    4\ttrain loss:  0.5812\tvalidation loss:  0.5730\n",
      "Epoch    5\ttrain loss:  0.5771\tvalidation loss:  0.5706\n",
      "Epoch    6\ttrain loss:  0.5752\tvalidation loss:  0.5705\n",
      "Epoch    7\ttrain loss:  0.5723\tvalidation loss:  0.5656\n",
      "Epoch    8\ttrain loss:  0.5698\tvalidation loss:  0.5657\n",
      "Epoch    9\ttrain loss:  0.5695\tvalidation loss:  0.5641\n",
      "Epoch   10\ttrain loss:  0.5674\tvalidation loss:  0.5634\n",
      "Epoch   11\ttrain loss:  0.5666\tvalidation loss:  0.5657\n",
      "Epoch   12\ttrain loss:  0.5654\tvalidation loss:  0.5636\n",
      "Epoch   13\ttrain loss:  0.5643\tvalidation loss:  0.5616\n",
      "Epoch   14\ttrain loss:  0.5631\tvalidation loss:  0.5602\n",
      "Epoch   15\ttrain loss:  0.5623\tvalidation loss:  0.5609\n",
      "Epoch   16\ttrain loss:  0.5620\tvalidation loss:  0.5602\n",
      "Epoch   17\ttrain loss:  0.5611\tvalidation loss:  0.5600\n",
      "Epoch   18\ttrain loss:  0.5601\tvalidation loss:  0.5592\n",
      "Epoch   19\ttrain loss:  0.5591\tvalidation loss:  0.5592\n",
      "Epoch   20\ttrain loss:  0.5593\tvalidation loss:  0.5586\n",
      "Epoch   21\ttrain loss:  0.5586\tvalidation loss:  0.5575\n",
      "Epoch   22\ttrain loss:  0.5594\tvalidation loss:  0.5572\n",
      "Epoch   23\ttrain loss:  0.5572\tvalidation loss:  0.5575\n",
      "Epoch   24\ttrain loss:  0.5565\tvalidation loss:  0.5574\n",
      "Epoch   25\ttrain loss:  0.5564\tvalidation loss:  0.5570\n",
      "Epoch   26\ttrain loss:  0.5552\tvalidation loss:  0.5566\n",
      "Epoch   27\ttrain loss:  0.5549\tvalidation loss:  0.5562\n",
      "Epoch   28\ttrain loss:  0.5548\tvalidation loss:  0.5599\n",
      "Epoch   29\ttrain loss:  0.5547\tvalidation loss:  0.5565\n",
      "Epoch   30\ttrain loss:  0.5541\tvalidation loss:  0.5552\n",
      "Epoch   31\ttrain loss:  0.5536\tvalidation loss:  0.5567\n",
      "Epoch   32\ttrain loss:  0.5534\tvalidation loss:  0.5572\n",
      "Epoch   33\ttrain loss:  0.5521\tvalidation loss:  0.5556\n",
      "Epoch   34\ttrain loss:  0.5526\tvalidation loss:  0.5557\n",
      "Epoch   35\ttrain loss:  0.5529\tvalidation loss:  0.5554\n",
      "Epoch   36\ttrain loss:  0.5511\tvalidation loss:  0.5554\n",
      "Epoch   37\ttrain loss:  0.5520\tvalidation loss:  0.5548\n",
      "Epoch   38\ttrain loss:  0.5511\tvalidation loss:  0.5572\n",
      "Epoch   39\ttrain loss:  0.5506\tvalidation loss:  0.5551\n",
      "Epoch   40\ttrain loss:  0.5507\tvalidation loss:  0.5564\n",
      "Epoch   41\ttrain loss:  0.5503\tvalidation loss:  0.5549\n",
      "Epoch   42\ttrain loss:  0.5500\tvalidation loss:  0.5540\n",
      "Epoch   43\ttrain loss:  0.5495\tvalidation loss:  0.5545\n",
      "Epoch   44\ttrain loss:  0.5493\tvalidation loss:  0.5551\n",
      "Epoch   45\ttrain loss:  0.5486\tvalidation loss:  0.5542\n",
      "Epoch   46\ttrain loss:  0.5491\tvalidation loss:  0.5546\n",
      "Epoch   47\ttrain loss:  0.5488\tvalidation loss:  0.5538\n",
      "Epoch   48\ttrain loss:  0.5476\tvalidation loss:  0.5542\n",
      "Epoch   49\ttrain loss:  0.5476\tvalidation loss:  0.5542\n",
      "Epoch   50\ttrain loss:  0.5470\tvalidation loss:  0.5550\n",
      "Epoch   51\ttrain loss:  0.5472\tvalidation loss:  0.5549\n",
      "Epoch   52\ttrain loss:  0.5468\tvalidation loss:  0.5534\n",
      "Epoch   53\ttrain loss:  0.5466\tvalidation loss:  0.5545\n",
      "Epoch   54\ttrain loss:  0.5462\tvalidation loss:  0.5541\n",
      "Epoch   55\ttrain loss:  0.5456\tvalidation loss:  0.5541\n",
      "Epoch   56\ttrain loss:  0.5454\tvalidation loss:  0.5541\n",
      "Epoch   57\ttrain loss:  0.5453\tvalidation loss:  0.5539\n",
      "Epoch   58\ttrain loss:  0.5454\tvalidation loss:  0.5549\n",
      "Epoch   59\ttrain loss:  0.5453\tvalidation loss:  0.5528\n",
      "Epoch   60\ttrain loss:  0.5441\tvalidation loss:  0.5538\n",
      "CPU times: user 37min 59s, sys: 5.67 s, total: 38min 5s\n",
      "Wall time: 10min 1s\n"
     ]
    }
   ],
   "source": [
    "%%time \n",
    "#200 takes 16min 35s\n",
    "\n",
    "linear_loss = train(NNclassifier, model_name='NNclassifier', epochs=60)"
   ]
  },
  {
   "cell_type": "code",
   "execution_count": 22,
   "metadata": {},
   "outputs": [],
   "source": [
    "#evaluation metrics\n",
    "loss, con_mat, class_report=  validate(NNclassifier, test_dataloader)"
   ]
  },
  {
   "cell_type": "code",
   "execution_count": 23,
   "metadata": {
    "scrolled": true
   },
   "outputs": [
    {
     "name": "stdout",
     "output_type": "stream",
     "text": [
      "              precision    recall  f1-score   support\n",
      "\n",
      "unsuccessful     0.7271    0.7910    0.7577      5656\n",
      "  successful     0.6908    0.6113    0.6487      4320\n",
      "\n",
      "    accuracy                         0.7132      9976\n",
      "   macro avg     0.7090    0.7012    0.7032      9976\n",
      "weighted avg     0.7114    0.7132    0.7105      9976\n",
      "\n"
     ]
    }
   ],
   "source": [
    "print(class_report)"
   ]
  },
  {
   "cell_type": "code",
   "execution_count": 24,
   "metadata": {
    "scrolled": true
   },
   "outputs": [
    {
     "data": {
      "text/plain": [
       "<Axes: >"
      ]
     },
     "execution_count": 24,
     "metadata": {},
     "output_type": "execute_result"
    },
    {
     "data": {
      "image/png": "[encoded data removed]",
      "text/plain": [
       "<Figure size 500x400 with 2 Axes>"
      ]
     },
     "metadata": {},
     "output_type": "display_data"
    }
   ],
   "source": [
    "plt.figure(figsize = (5,4))\n",
    "sn.heatmap(con_mat, annot=True,cmap='YlOrBr',fmt='g')"
   ]
  },
  {
   "cell_type": "code",
   "execution_count": null,
   "metadata": {},
   "outputs": [],
   "source": [
    "# Benchmark \n",
    "#Best parameters for recall found on training set are:\n",
    "#{'max_depth': 20, 'min_samples_leaf': 1, 'min_samples_split': 2, 'n_estimators': 300}\n",
    "#\n",
    "#precision    recall  f1-score   support\n",
    "\n",
    "#unsuccessful     0.7303    0.7918    0.7598      5677\n",
    "#  successful     0.6907    0.6139    0.6500      4299\n",
    "\n",
    "#    accuracy                         0.7151      9976\n",
    "#   macro avg     0.7105    0.7028    0.7049      9976\n",
    "#weighted avg     0.7132    0.7151    0.7125      9976"
   ]
  }
 ],
 "metadata": {
  "kernelspec": {
   "display_name": "Python 3 (ipykernel)",
   "language": "python",
   "name": "python3"
  },
  "language_info": {
   "codemirror_mode": {
    "name": "ipython",
    "version": 3
   },
   "file_extension": ".py",
   "mimetype": "text/x-python",
   "name": "python",
   "nbconvert_exporter": "python",
   "pygments_lexer": "ipython3",
   "version": "3.10.12"
  }
 },
 "nbformat": 4,
 "nbformat_minor": 4
}
